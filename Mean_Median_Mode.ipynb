{
 "cells": [
  {
   "cell_type": "code",
   "execution_count": 32,
   "metadata": {},
   "outputs": [
    {
     "name": "stdout",
     "output_type": "stream",
     "text": [
      "mean: 87.83333333333333\n",
      "median: 6.5\n",
      "Mode of given data set is 3\n"
     ]
    }
   ],
   "source": [
    "#\n",
    "data = (2,4,6,7,8,500)\n",
    "mean = sum(data)/len(data)\n",
    "print(\"mean:\",mean)\n",
    "\n",
    "#\n",
    "sorted_data = sorted(data)\n",
    "num = len(sorted_data)\n",
    "if num%2 == 0:\n",
    "    median = (sorted_data[num//2 - 1] + sorted_data[num//2])/2\n",
    "else:\n",
    "    median = sorted_data[num//2] # 10//3 = 3 floor value\n",
    "print(\"median:\",median,)\n",
    "\n",
    "#\n",
    "import statistics\n",
    "set1 =[1, 2, 3, 3, 3, 4, 4, 4, 5, 5, 5]\n",
    " \n",
    "print(\"Mode of given data set is % s\" % (statistics.mode(set1)))\n",
    "    "
   ]
  },
  {
   "cell_type": "code",
   "execution_count": 23,
   "metadata": {},
   "outputs": [
    {
     "name": "stdout",
     "output_type": "stream",
     "text": [
      "Mean: 3.7142857142857144\n",
      "Median: 4\n",
      "Mode: [1]\n"
     ]
    }
   ],
   "source": [
    "\n",
    "my_tuple = (1, 1, 2, 4, 5, 6,7)\n",
    "mean = sum(my_tuple) / len(my_tuple)\n",
    "\n",
    "\n",
    "sorted_tuple = sorted(my_tuple)\n",
    "n = len(sorted_tuple)\n",
    "if n % 2 == 0:\n",
    "    median = (sorted_tuple[n // 2 - 1] + sorted_tuple[n // 2]) / 2 # // is floor division operator eg. 3//2 = 1\n",
    "else:\n",
    "    median = sorted_tuple[n // 2]\n",
    "\n",
    "\n",
    "# mode is the most frequently occurring value, and the median is the middle value in a dataset\n",
    "count_dict = {}\n",
    "for item in my_tuple:\n",
    "    count_dict[item] = count_dict.get(item, 0) + 1\n",
    "mode = [key for key, value in count_dict.items() if value == max(count_dict.values())]# since all values occur only once, it would print:\n",
    "\n",
    "print(f\"Mean: {mean}\")\n",
    "print(f\"Median: {median}\")\n",
    "print(f\"Mode: {mode}\")\n"
   ]
  },
  {
   "cell_type": "code",
   "execution_count": 24,
   "metadata": {},
   "outputs": [
    {
     "name": "stdout",
     "output_type": "stream",
     "text": [
      "Mean: 4.5\n",
      "Median: 4.5\n"
     ]
    }
   ],
   "source": [
    "\n",
    "my_set = {1, 2, 3, 4, 5, 6,7,8}\n",
    "\n",
    "my_list = list(my_set)\n",
    "\n",
    "\n",
    "mean = sum(my_list) / len(my_list)\n",
    "\n",
    "\n",
    "sorted_list = sorted(my_list)\n",
    "n = len(sorted_list)\n",
    "if n % 2 == 0:\n",
    "    median = (sorted_list[n // 2 - 1] + sorted_list[n // 2]) / 2\n",
    "else:\n",
    "    median = sorted_list[n // 2]\n",
    "\n",
    "print(f\"Mean: {mean}\")\n",
    "print(f\"Median: {median}\")\n"
   ]
  },
  {
   "cell_type": "code",
   "execution_count": 25,
   "metadata": {},
   "outputs": [
    {
     "name": "stdout",
     "output_type": "stream",
     "text": [
      "Mean of Values: 30.0\n",
      "Median of Values: 30\n",
      "Mode of Keys: ['A', 'B', 'C', 'D', 'E']\n"
     ]
    }
   ],
   "source": [
    "\n",
    "my_dict = {'A': 10, 'B': 20, 'C': 30, 'D': 40, 'E': 50}\n",
    "\n",
    "\n",
    "mean_values = sum(my_dict.values()) / len(my_dict)\n",
    "\n",
    "\n",
    "values_list = list(my_dict.values())\n",
    "sorted_values = sorted(values_list)\n",
    "n = len(sorted_values)\n",
    "if n % 2 == 0:\n",
    "    median_values = (sorted_values[n // 2 - 1] + sorted_values[n // 2]) / 2\n",
    "else:\n",
    "    median_values = sorted_values[n // 2]\n",
    "\n",
    "\n",
    "count_dict_keys = {}\n",
    "for key in my_dict.keys():\n",
    "    count_dict_keys[key] = count_dict_keys.get(key, 0) + 1\n",
    "mode_keys = [key for key, value in count_dict_keys.items() if value == max(count_dict_keys.values())]\n",
    "\n",
    "print(f\"Mean of Values: {mean_values}\")\n",
    "print(f\"Median of Values: {median_values}\")\n",
    "print(f\"Mode of Keys: {mode_keys}\")\n"
   ]
  }
 ],
 "metadata": {
  "kernelspec": {
   "display_name": "Python 3",
   "language": "python",
   "name": "python3"
  },
  "language_info": {
   "codemirror_mode": {
    "name": "ipython",
    "version": 3
   },
   "file_extension": ".py",
   "mimetype": "text/x-python",
   "name": "python",
   "nbconvert_exporter": "python",
   "pygments_lexer": "ipython3",
   "version": "3.8.8"
  },
  "orig_nbformat": 4
 },
 "nbformat": 4,
 "nbformat_minor": 2
}
