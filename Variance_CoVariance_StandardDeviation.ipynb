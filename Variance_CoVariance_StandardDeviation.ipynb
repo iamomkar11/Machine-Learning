{
 "cells": [
  {
   "cell_type": "code",
   "execution_count": 1,
   "metadata": {},
   "outputs": [
    {
     "name": "stdout",
     "output_type": "stream",
     "text": [
      "Variance: 1.8055555555555554\n",
      "Standard Deviation: 1.3437096247164249\n",
      "Covariance: 2.25\n"
     ]
    }
   ],
   "source": [
    "# Variance is a measure of the spread or dispersion of a set of data points.\n",
    "# # It quantifies how much individual data points deviate from the mean (average).\n",
    "# Where:\n",
    "# σ ^ 2 is the variance.\n",
    "# xi represents individual data points.\n",
    "# μ is the mean(average) of the data.\n",
    "# N is the total number of data points.\n",
    "# The formula for calculating the variance of a dataset is :\n",
    "Variance(σ ^ 2) = (Σ(xi - μ) ^ 2) / N\n",
    "my_tuple = (1, 2, 3, 4, 4, 5)\n",
    "\n",
    "mean = sum(my_tuple) / len(my_tuple)\n",
    "\n",
    "variance = sum((x - mean) ** 2 for x in my_tuple) / len(my_tuple)\n",
    "\n",
    "std_deviation = variance ** 0.5\n",
    "\n",
    "print(f\"Variance: {variance}\")\n",
    "print(f\"Standard Deviation: {std_deviation}\")\n",
    "\n",
    "data2 = (2, 3, 4, 5, 6, 7, 8,9,10)\n",
    "\n",
    "mean2 = sum(data2) / len(data2)\n",
    "covariance = sum((x - mean) * (y - mean2) for x, y in zip(my_tuple, data2)) / len(my_tuple)\n",
    "\n",
    "print(f\"Covariance: {covariance}\")\n"
   ]
  },
  {
   "cell_type": "code",
   "execution_count": 2,
   "metadata": {},
   "outputs": [
    {
     "name": "stdout",
     "output_type": "stream",
     "text": [
      "Variance: 2.9166666666666665\n",
      "Standard Deviation: 1.707825127659933\n"
     ]
    }
   ],
   "source": [
    "# Covariance measures the degree to which two random variables change together. It indicates whether an increase in one variable corresponds to an increase or decrease in another variable.\n",
    "# The formula for calculating the covariance between two variables X and Y in a dataset is:\n",
    "# Cov(X, Y) = Σ((xi - μX) * (yi - μY)) / N\n",
    "# Where:\n",
    "# Cov(X, Y) is the covariance between X and Y.\n",
    "# xi and yi are individual data points for X and Y, respectively.\n",
    "# μX and μY are the means of X and Y, respectively.\n",
    "# N is the total number of data points.\n",
    "my_set = {1, 2, 3, 4, 5, 6}\n",
    "\n",
    "data_list = list(my_set)\n",
    "\n",
    "mean = sum(data_list) / len(data_list)\n",
    "\n",
    "variance = sum((x - mean) ** 2 for x in data_list) / len(data_list)\n",
    "\n",
    "std_deviation = variance ** 0.5\n",
    "\n",
    "print(f\"Variance: {variance}\")\n",
    "print(f\"Standard Deviation: {std_deviation}\")\n"
   ]
  },
  {
   "cell_type": "code",
   "execution_count": 3,
   "metadata": {},
   "outputs": [
    {
     "name": "stdout",
     "output_type": "stream",
     "text": [
      "Variance: 200.0\n",
      "Standard Deviation: 14.142135623730951\n",
      "Covariance: 200.0\n"
     ]
    }
   ],
   "source": [
    "# The standard deviation is another measure of the spread or dispersion of a dataset, similar to variance. It is the square root of the variance and is often used because it has the same units as the original data.\n",
    "# The formula for calculating the standard deviation (σ) is:\n",
    "# Standard Deviation(σ) = √Variance(σ ^ 2)\n",
    "# In other words, it's the square root of the variance.\n",
    "my_dict = {'A': 10, 'B': 20, 'C': 30, 'D': 40, 'E': 50}\n",
    "\n",
    "data_list = list(my_dict.values())\n",
    "\n",
    "mean = sum(data_list) / len(data_list)\n",
    "\n",
    "variance = sum((x - mean) ** 2 for x in data_list) / len(data_list)\n",
    "\n",
    "std_deviation = variance ** 0.5\n",
    "\n",
    "print(f\"Variance: {variance}\")\n",
    "print(f\"Standard Deviation: {std_deviation}\")\n",
    "\n",
    "data2 = {'A': 5, 'B': 15, 'C': 25, 'D': 35, 'E': 45,'F':55}\n",
    "data_list2 = list(data2.values())\n",
    "\n",
    "mean2 = sum(data_list2) / len(data_list2)\n",
    "covariance = sum((x - mean) * (y - mean2) for x, y in zip(data_list, data_list2)) / len(data_list)\n",
    "\n",
    "print(f\"Covariance: {covariance}\")\n"
   ]
  }
 ],
 "metadata": {
  "kernelspec": {
   "display_name": "Python 3",
   "language": "python",
   "name": "python3"
  },
  "language_info": {
   "codemirror_mode": {
    "name": "ipython",
    "version": 3
   },
   "file_extension": ".py",
   "mimetype": "text/x-python",
   "name": "python",
   "nbconvert_exporter": "python",
   "pygments_lexer": "ipython3",
   "version": "3.8.8"
  },
  "orig_nbformat": 4
 },
 "nbformat": 4,
 "nbformat_minor": 2
}
