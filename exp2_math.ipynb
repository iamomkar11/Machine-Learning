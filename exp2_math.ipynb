{
 "cells": [
  {
   "cell_type": "code",
   "execution_count": 2,
   "metadata": {},
   "outputs": [
    {
     "name": "stdout",
     "output_type": "stream",
     "text": [
      "5\n",
      "-4\n",
      "300\n",
      "-301\n"
     ]
    }
   ],
   "source": [
    "import math as m\n",
    "print(m.ceil(4.1)) # take higher\n",
    "print(m.ceil(-4.9)) # take higher\n",
    "\n",
    "print(m.floor(300.001)) # take lesser\n",
    "print(m.floor(-300.999)) # take lesser"
   ]
  },
  {
   "cell_type": "code",
   "execution_count": 12,
   "metadata": {},
   "outputs": [
    {
     "name": "stdout",
     "output_type": "stream",
     "text": [
      "5.0\n",
      "3.4\n",
      "720\n",
      "1.0\n"
     ]
    }
   ],
   "source": [
    "a = -5\n",
    "b = 25\n",
    "print(m.copysign(a,b))\n",
    "\n",
    "print(m.fabs(-3.4)) # |-3.4| = 3.4\n",
    "print(m.factorial(6))\n",
    "print(m.fmod(5,2))"
   ]
  },
  {
   "cell_type": "code",
   "execution_count": 13,
   "metadata": {},
   "outputs": [
    {
     "name": "stdout",
     "output_type": "stream",
     "text": [
      "(0.5, 4)\n"
     ]
    }
   ],
   "source": [
    "print(m.frexp(8)) # 8 = 0.5 * 2^4 (M*B^E mantissa base exponent)"
   ]
  },
  {
   "cell_type": "code",
   "execution_count": 18,
   "metadata": {},
   "outputs": [
    {
     "name": "stdout",
     "output_type": "stream",
     "text": [
      "0.9999999999999999\n",
      "1.0\n"
     ]
    }
   ],
   "source": [
    "print(sum([.1,.1,.1,.1,.1,.1,.1,.1,.1,.1])) # this one gives error\n",
    "print(m.fsum([.1, .1, .1, .1, .1, .1, .1, .1, .1, .1])) # therefore\n"
   ]
  },
  {
   "cell_type": "code",
   "execution_count": 30,
   "metadata": {},
   "outputs": [
    {
     "name": "stdout",
     "output_type": "stream",
     "text": [
      "True\n",
      "True\n",
      "False\n",
      "False\n"
     ]
    }
   ],
   "source": [
    "print(m.isfinite(2000))\n",
    "print(m.isfinite(-45))\n",
    "print(m.isfinite(m.inf))\n",
    "print(m.isfinite(m.nan))# nan = none\n",
    "# print(m.isfinite(inf)) # inf = infinite"
   ]
  },
  {
   "cell_type": "code",
   "execution_count": 33,
   "metadata": {},
   "outputs": [
    {
     "name": "stdout",
     "output_type": "stream",
     "text": [
      "False\n",
      "False\n",
      "False\n",
      "True\n",
      "False\n",
      "False\n"
     ]
    }
   ],
   "source": [
    "print(m.isnan(2000))\n",
    "print(m.isnan(-45))\n",
    "print(m.isnan(m.inf))\n",
    "print(m.isnan(m.nan))\n",
    "print(m.isnan(float(\"inf\")))\n",
    "print(m.isnan(float(\"-inf\")))"
   ]
  },
  {
   "cell_type": "code",
   "execution_count": 41,
   "metadata": {},
   "outputs": [
    {
     "name": "stdout",
     "output_type": "stream",
     "text": [
      "16.0\n",
      "(0.5, 9.0)\n",
      "9\n",
      "-9\n",
      "20.085536923187668\n",
      "19.085536923187668\n"
     ]
    }
   ],
   "source": [
    "print(m.ldexp(2,3))# x * 2^i\n",
    "print(m.modf(9.5))\n",
    "\n",
    "print(m.trunc(9.5))\n",
    "print(m.trunc(-9.5))\n",
    "\n",
    "print(m.exp(3)) # E^X is the base of natural system\n",
    "print(m.expm1(3)) # (E^X) -1"
   ]
  },
  {
   "cell_type": "code",
   "execution_count": 56,
   "metadata": {},
   "outputs": [
    {
     "name": "stdout",
     "output_type": "stream",
     "text": [
      "2.0\n",
      "41.0\n",
      "24.0\n",
      "3.141592653589793 2.718281828459045 nan\n",
      "12\n"
     ]
    }
   ],
   "source": [
    "print(m.log(4,2)) # log(x,base)\n",
    "print(m.hypot(9,40)) # hypotenues\n",
    "print(m.gamma(5)) # (n-1)!\n",
    "print(m.pi,m.e,m.nan)\n",
    "print(m.gcd(12,36))"
   ]
  }
 ],
 "metadata": {
  "kernelspec": {
   "display_name": "base",
   "language": "python",
   "name": "python3"
  },
  "language_info": {
   "codemirror_mode": {
    "name": "ipython",
    "version": 3
   },
   "file_extension": ".py",
   "mimetype": "text/x-python",
   "name": "python",
   "nbconvert_exporter": "python",
   "pygments_lexer": "ipython3",
   "version": "3.8.8"
  },
  "orig_nbformat": 4
 },
 "nbformat": 4,
 "nbformat_minor": 2
}
