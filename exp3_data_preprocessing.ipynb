{
 "cells": [
  {
   "cell_type": "markdown",
   "metadata": {},
   "source": [
    "1.Data load\n",
    "2.Missing values\n",
    "3.Fill\n",
    "4.Check balance datatypes similar\n",
    "5.balance numbers\n",
    "6.scale"
   ]
  },
  {
   "cell_type": "code",
   "execution_count": 2,
   "metadata": {},
   "outputs": [
    {
     "name": "stdout",
     "output_type": "stream",
     "text": [
      "   Country   Age   Salary Purchased\n",
      "0   France  44.0  72000.0        No\n",
      "1    Spain  27.0  48000.0       Yes\n",
      "2  Germany  30.0  54000.0        No\n",
      "3    Spain  38.0  61000.0        No\n",
      "4  Germany  40.0      NaN       Yes\n",
      "5   France  35.0  58000.0       Yes\n",
      "6    Spain   NaN  52000.0        No\n",
      "7   France  48.0  79000.0       Yes\n",
      "8  Germany  50.0  83000.0        No\n",
      "9   France  37.0  67000.0       Yes\n"
     ]
    }
   ],
   "source": [
    "import pandas as pd\n",
    "import numpy as np\n",
    "df = pd.read_csv(\"D:/4th year/Machine Learning/Data.csv\")\n",
    "print(df)"
   ]
  },
  {
   "cell_type": "code",
   "execution_count": 3,
   "metadata": {},
   "outputs": [
    {
     "name": "stdout",
     "output_type": "stream",
     "text": [
      "61000.0\n",
      "   Country   Age   Salary Purchased\n",
      "0   France  44.0  72000.0        No\n",
      "1    Spain  27.0  48000.0       Yes\n",
      "2  Germany  30.0  54000.0        No\n",
      "3    Spain  38.0  61000.0        No\n",
      "4  Germany  40.0  61000.0       Yes\n",
      "5   France  35.0  58000.0       Yes\n",
      "6    Spain   NaN  52000.0        No\n",
      "7   France  48.0  79000.0       Yes\n",
      "8  Germany  50.0  83000.0        No\n",
      "9   France  37.0  67000.0       Yes\n"
     ]
    }
   ],
   "source": [
    "z = df['Salary'].median()\n",
    "print(z)\n",
    "df['Salary'].fillna(z,inplace = True)\n",
    "print(df)"
   ]
  },
  {
   "cell_type": "code",
   "execution_count": 4,
   "metadata": {},
   "outputs": [
    {
     "name": "stdout",
     "output_type": "stream",
     "text": [
      "38.0\n",
      "   Country   Age   Salary Purchased\n",
      "0   France  44.0  72000.0        No\n",
      "1    Spain  27.0  48000.0       Yes\n",
      "2  Germany  30.0  54000.0        No\n",
      "3    Spain  38.0  61000.0        No\n",
      "4  Germany  40.0  61000.0       Yes\n",
      "5   France  35.0  58000.0       Yes\n",
      "6    Spain  38.0  52000.0        No\n",
      "7   France  48.0  79000.0       Yes\n",
      "8  Germany  50.0  83000.0        No\n",
      "9   France  37.0  67000.0       Yes\n"
     ]
    }
   ],
   "source": [
    "z = df['Age'].median()\n",
    "print(z)\n",
    "df['Age'].fillna(z, inplace=True)\n",
    "print(df)"
   ]
  },
  {
   "cell_type": "code",
   "execution_count": 5,
   "metadata": {},
   "outputs": [
    {
     "name": "stdout",
     "output_type": "stream",
     "text": [
      "['No' 'Yes' 'No' 'No' 'Yes' 'Yes' 'No' 'Yes' 'No' 'Yes']\n"
     ]
    }
   ],
   "source": [
    "x = df.iloc[:, :-1].values # iloc for integer-based indexing & loc for label-based indexing, -1 for except last testing data others are in x\n",
    "y = df.iloc[:, 3].values # also can give df.iloc[:, -1].values (: for all rows and -1 for last column)\n",
    "print(y)"
   ]
  },
  {
   "cell_type": "code",
   "execution_count": 6,
   "metadata": {},
   "outputs": [
    {
     "name": "stdout",
     "output_type": "stream",
     "text": [
      "[[0 44.0 72000.0]\n",
      " [2 27.0 48000.0]\n",
      " [1 30.0 54000.0]\n",
      " [2 38.0 61000.0]\n",
      " [1 40.0 61000.0]\n",
      " [0 35.0 58000.0]\n",
      " [2 38.0 52000.0]\n",
      " [0 48.0 79000.0]\n",
      " [1 50.0 83000.0]\n",
      " [0 37.0 67000.0]]\n"
     ]
    }
   ],
   "source": [
    "# converting string to numbers (country names to numrical)\n",
    "from sklearn.preprocessing import LabelEncoder # importing library\n",
    "\n",
    "#LabelEncoder_X = LabelEncoder() # function which is used to perform this action so to store in variable\n",
    "\n",
    "x[:, 0] = LabelEncoder().fit_transform(x[:, 0])  # country is in 1st column\n",
    "print(x) # successfully assigned names of countries to numbers"
   ]
  },
  {
   "cell_type": "code",
   "execution_count": 7,
   "metadata": {},
   "outputs": [
    {
     "name": "stdout",
     "output_type": "stream",
     "text": [
      "[0 1 0 0 1 1 0 1 0 1]\n"
     ]
    }
   ],
   "source": [
    "y = LabelEncoder().fit_transform(y) # no need to use iloc cause y contains only 1 column\n",
    "print(y)"
   ]
  },
  {
   "cell_type": "code",
   "execution_count": 8,
   "metadata": {},
   "outputs": [
    {
     "name": "stdout",
     "output_type": "stream",
     "text": [
      "[[-1.08347268  0.76973439  0.77256767]\n",
      " [ 1.32424438 -1.69922498 -1.40879986]\n",
      " [ 0.12038585 -1.26352627 -0.86345798]\n",
      " [ 1.32424438 -0.10166303 -0.22722578]\n",
      " [ 0.12038585  0.18880278 -0.22722578]\n",
      " [-1.08347268 -0.53736175 -0.49989673]\n",
      " [ 1.32424438 -0.10166303 -1.04523861]\n",
      " [-1.08347268  1.35066601  1.40879986]\n",
      " [ 0.12038585  1.64113182  1.77236112]\n",
      " [-1.08347268 -0.24689594  0.3181161 ]]\n"
     ]
    }
   ],
   "source": [
    "# converting to same scale, cause age & salary unit is different\n",
    "from sklearn.preprocessing import StandardScaler\n",
    "sc_X = StandardScaler().fit_transform(x)\n",
    "print(sc_X)"
   ]
  },
  {
   "cell_type": "code",
   "execution_count": 9,
   "metadata": {},
   "outputs": [
    {
     "name": "stdout",
     "output_type": "stream",
     "text": [
      "[[0.         0.73913043 0.68571429]\n",
      " [1.         0.         0.        ]\n",
      " [0.5        0.13043478 0.17142857]\n",
      " [1.         0.47826087 0.37142857]\n",
      " [0.5        0.56521739 0.37142857]\n",
      " [0.         0.34782609 0.28571429]\n",
      " [1.         0.47826087 0.11428571]\n",
      " [0.         0.91304348 0.88571429]\n",
      " [0.5        1.         1.        ]\n",
      " [0.         0.43478261 0.54285714]]\n"
     ]
    }
   ],
   "source": [
    "# as above values contains negative, we use minmax to get all positive\n",
    "from sklearn.preprocessing import MinMaxScaler\n",
    "min_max_scaler_X = MinMaxScaler().fit_transform(sc_X) # sc_X contains -ve values, so this is given to transform\n",
    "print(min_max_scaler_X) # formula used:- normalized value = (value - min) / (max - min)"
   ]
  },
  {
   "cell_type": "code",
   "execution_count": 38,
   "metadata": {},
   "outputs": [
    {
     "data": {
      "image/png": "[encoded data removed]",
      "text/plain": [
       "<Figure size 720x432 with 1 Axes>"
      ]
     },
     "metadata": {
      "needs_background": "light"
     },
     "output_type": "display_data"
    }
   ],
   "source": [
    "import numpy as np\n",
    "import matplotlib.pyplot as plt\n",
    "from sklearn.preprocessing import StandardScaler\n",
    "from scipy import stats\n",
    "\n",
    "scaler = StandardScaler()\n",
    "scaled_data = scaler.fit_transform(min_max_scaler_X)\n",
    "\n",
    "z_scores = stats.zscore(scaled_data)\n",
    "\n",
    "threshold = 3\n",
    "\n",
    "outliers = np.where(np.abs(z_scores) > threshold)[0]\n",
    "\n",
    "\n",
    "plt.figure(figsize=(10, 6))\n",
    "plt.scatter(scaled_data[:, 1], scaled_data[:, 2], label='Data Points')\n",
    "\n",
    "# Mark outliers on the plot\n",
    "plt.scatter(scaled_data[outliers, 0],\n",
    "            scaled_data[outliers, 1], c='red', label='Outliers')\n",
    "\n",
    "plt.title('Scatter Plot with Outliers')\n",
    "plt.xlabel('Age')\n",
    "plt.ylabel('Salary')\n",
    "plt.legend()\n",
    "plt.show()\n",
    "\n",
    "# Remove outliers\n",
    "filtered_data = np.delete(scaled_data, outliers, axis=0)\n",
    "# Now 'filtered_data' contains the data with outliers removed"
   ]
  }
 ],
 "metadata": {
  "kernelspec": {
   "display_name": "base",
   "language": "python",
   "name": "python3"
  },
  "language_info": {
   "codemirror_mode": {
    "name": "ipython",
    "version": 3
   },
   "file_extension": ".py",
   "mimetype": "text/x-python",
   "name": "python",
   "nbconvert_exporter": "python",
   "pygments_lexer": "ipython3",
   "version": "3.8.8"
  },
  "orig_nbformat": 4
 },
 "nbformat": 4,
 "nbformat_minor": 2
}
